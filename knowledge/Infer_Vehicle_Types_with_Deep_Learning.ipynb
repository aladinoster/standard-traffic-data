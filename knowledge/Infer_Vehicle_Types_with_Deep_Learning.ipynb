{
 "cells": [
  {
   "cell_type": "markdown",
   "metadata": {},
   "source": [
    "# Inferring the Correct Vehicle Type with TensorFlow\n",
    "##### <font color=\"aqua\">Ruggero Fabbiano – 21 February 2021</font>"
   ]
  },
  {
   "cell_type": "markdown",
   "metadata": {},
   "source": [
    "## Introduction\n",
    "\n",
    "<font color=\"aqua\">\n",
    "\n",
    "In our previous analysis we saw that it seems that there are issues with pedestrians objects in SUMo MoST. The idea behind this notebook is to use deep learning to correctly classify the types of such vehicles. We will use all the other vehicles as a learning set for our model, then use this model to identify \"fake\" pedestrians.\n",
    "\n",
    "#### Why Deep Learning?\n",
    "\n",
    "Our data set can be thought as composed by multivariate time-series (after proper manipulation) of vehicles trip around Monaco area. As we know, SKTimes is the \"SKLearn version for time-series\", and as a package conceived specifically to treat this kind of data, is meant to provide better results than deep learning for multivariate classification. So why approach this problem with deep learning?\n",
    "\n",
    "The answer is that this article is meant exactly to provide a comparison with [the work of another author with SKTimes](notebook_link), hoping such comparison would allow to draw interesting conclusions. So, we will use TensorFlow to build a neural network to approach this problem.\n",
    "\n",
    "</font>"
   ]
  },
  {
   "cell_type": "markdown",
   "metadata": {},
   "source": [
    " # The Data\n",
    " \n",
    " <font color=\"aqua\">\n",
    "\n",
    "For the sake of comprehension we will use here the same data as in [this notebook](notebook_link). Moreover, we suppose to have already carried out all the \"data cleaning\" carried out there.\n",
    "    \n",
    "We can so import such data, after installing and importing the needed packages.\n",
    "\n",
    "</font>"
   ]
  },
  {
   "cell_type": "markdown",
   "metadata": {},
   "source": [
    "## Install Needed Packages"
   ]
  },
  {
   "cell_type": "code",
   "execution_count": null,
   "metadata": {},
   "outputs": [],
   "source": [
    "!pip install pandas"
   ]
  },
  {
   "cell_type": "markdown",
   "metadata": {},
   "source": [
    "## Import Packages and Data"
   ]
  },
  {
   "cell_type": "code",
   "execution_count": 4,
   "metadata": {},
   "outputs": [],
   "source": [
    "import pandas as pd"
   ]
  },
  {
   "cell_type": "code",
   "execution_count": 5,
   "metadata": {},
   "outputs": [
    {
     "data": {
      "text/html": [
       "<div>\n",
       "<style scoped>\n",
       "    .dataframe tbody tr th:only-of-type {\n",
       "        vertical-align: middle;\n",
       "    }\n",
       "\n",
       "    .dataframe tbody tr th {\n",
       "        vertical-align: top;\n",
       "    }\n",
       "\n",
       "    .dataframe thead th {\n",
       "        text-align: right;\n",
       "    }\n",
       "</style>\n",
       "<table border=\"1\" class=\"dataframe\">\n",
       "  <thead>\n",
       "    <tr style=\"text-align: right;\">\n",
       "      <th></th>\n",
       "      <th>t</th>\n",
       "      <th>angle</th>\n",
       "      <th>ID</th>\n",
       "      <th>lane_edge</th>\n",
       "      <th>position</th>\n",
       "      <th>slope</th>\n",
       "      <th>speed</th>\n",
       "      <th>type</th>\n",
       "      <th>x</th>\n",
       "      <th>y</th>\n",
       "      <th>z</th>\n",
       "      <th>time</th>\n",
       "    </tr>\n",
       "  </thead>\n",
       "  <tbody>\n",
       "    <tr>\n",
       "      <th>2</th>\n",
       "      <td>21600.0</td>\n",
       "      <td>50.48</td>\n",
       "      <td>pedestrian_2-1_3985_tr</td>\n",
       "      <td>153330#1_1</td>\n",
       "      <td>2.2</td>\n",
       "      <td>-1.57</td>\n",
       "      <td>0.0</td>\n",
       "      <td>moped</td>\n",
       "      <td>4811.50</td>\n",
       "      <td>2704.21</td>\n",
       "      <td>143.81</td>\n",
       "      <td>06:00:00</td>\n",
       "    </tr>\n",
       "    <tr>\n",
       "      <th>3</th>\n",
       "      <td>21600.0</td>\n",
       "      <td>50.48</td>\n",
       "      <td>pedestrian_2-1_3985</td>\n",
       "      <td>153330#1</td>\n",
       "      <td>2.20</td>\n",
       "      <td>-1.55</td>\n",
       "      <td>0.0</td>\n",
       "      <td>pedestrian</td>\n",
       "      <td>4811.50</td>\n",
       "      <td>2704.21</td>\n",
       "      <td>143.81</td>\n",
       "      <td>06:00:00</td>\n",
       "    </tr>\n",
       "    <tr>\n",
       "      <th>4</th>\n",
       "      <td>21600.0</td>\n",
       "      <td>307.42</td>\n",
       "      <td>pedestrian_2-1_5063_tr</td>\n",
       "      <td>152413#3_1</td>\n",
       "      <td>2.3</td>\n",
       "      <td>-6.20</td>\n",
       "      <td>0.0</td>\n",
       "      <td>motorcycle</td>\n",
       "      <td>2006.06</td>\n",
       "      <td>3313.49</td>\n",
       "      <td>400.40</td>\n",
       "      <td>06:00:00</td>\n",
       "    </tr>\n",
       "    <tr>\n",
       "      <th>5</th>\n",
       "      <td>21600.0</td>\n",
       "      <td>307.42</td>\n",
       "      <td>pedestrian_2-1_5063</td>\n",
       "      <td>152413#3</td>\n",
       "      <td>2.30</td>\n",
       "      <td>-6.20</td>\n",
       "      <td>0.0</td>\n",
       "      <td>pedestrian</td>\n",
       "      <td>2006.06</td>\n",
       "      <td>3313.49</td>\n",
       "      <td>400.40</td>\n",
       "      <td>06:00:00</td>\n",
       "    </tr>\n",
       "    <tr>\n",
       "      <th>6</th>\n",
       "      <td>21600.0</td>\n",
       "      <td>121.94</td>\n",
       "      <td>pedestrian_2-1_5887_tr</td>\n",
       "      <td>-152557#1_1</td>\n",
       "      <td>2.3</td>\n",
       "      <td>-0.04</td>\n",
       "      <td>0.0</td>\n",
       "      <td>motorcycle</td>\n",
       "      <td>6482.50</td>\n",
       "      <td>3763.28</td>\n",
       "      <td>57.60</td>\n",
       "      <td>06:00:00</td>\n",
       "    </tr>\n",
       "  </tbody>\n",
       "</table>\n",
       "</div>"
      ],
      "text/plain": [
       "         t   angle                      ID    lane_edge position  slope  \\\n",
       "2  21600.0   50.48  pedestrian_2-1_3985_tr   153330#1_1      2.2  -1.57   \n",
       "3  21600.0   50.48     pedestrian_2-1_3985     153330#1     2.20  -1.55   \n",
       "4  21600.0  307.42  pedestrian_2-1_5063_tr   152413#3_1      2.3  -6.20   \n",
       "5  21600.0  307.42     pedestrian_2-1_5063     152413#3     2.30  -6.20   \n",
       "6  21600.0  121.94  pedestrian_2-1_5887_tr  -152557#1_1      2.3  -0.04   \n",
       "\n",
       "   speed        type        x        y       z      time  \n",
       "2    0.0       moped  4811.50  2704.21  143.81  06:00:00  \n",
       "3    0.0  pedestrian  4811.50  2704.21  143.81  06:00:00  \n",
       "4    0.0  motorcycle  2006.06  3313.49  400.40  06:00:00  \n",
       "5    0.0  pedestrian  2006.06  3313.49  400.40  06:00:00  \n",
       "6    0.0  motorcycle  6482.50  3763.28   57.60  06:00:00  "
      ]
     },
     "execution_count": 5,
     "metadata": {},
     "output_type": "execute_result"
    }
   ],
   "source": [
    "data = pd.read_pickle(\"MoST_0600_0830_processed.pkl\")\n",
    "\n",
    "data.head()"
   ]
  },
  {
   "cell_type": "markdown",
   "metadata": {},
   "source": [
    "## First step: multivariate time-series"
   ]
  },
  {
   "cell_type": "markdown",
   "metadata": {},
   "source": []
  }
 ],
 "metadata": {
  "kernelspec": {
   "display_name": "Python 3",
   "language": "python",
   "name": "python3"
  },
  "language_info": {
   "codemirror_mode": {
    "name": "ipython",
    "version": 3
   },
   "file_extension": ".py",
   "mimetype": "text/x-python",
   "name": "python",
   "nbconvert_exporter": "python",
   "pygments_lexer": "ipython3",
   "version": "3.7.3"
  }
 },
 "nbformat": 4,
 "nbformat_minor": 4
}
